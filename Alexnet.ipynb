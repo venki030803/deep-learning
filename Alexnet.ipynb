{
  "cells": [
    {
      "cell_type": "code",
      "execution_count": null,
      "metadata": {
        "colab": {
          "base_uri": "https://localhost:8080/"
        },
        "id": "4D6-AgLeVcdU",
        "outputId": "14a6f352-f144-45a6-ab0b-7be619e01742"
      },
      "outputs": [
        {
          "output_type": "stream",
          "name": "stdout",
          "text": [
            "Requirement already satisfied: tensorflow==2.8.0 in /usr/local/lib/python3.10/dist-packages (2.8.0)\n",
            "Requirement already satisfied: absl-py>=0.4.0 in /usr/local/lib/python3.10/dist-packages (from tensorflow==2.8.0) (1.4.0)\n",
            "Requirement already satisfied: astunparse>=1.6.0 in /usr/local/lib/python3.10/dist-packages (from tensorflow==2.8.0) (1.6.3)\n",
            "Requirement already satisfied: flatbuffers>=1.12 in /usr/local/lib/python3.10/dist-packages (from tensorflow==2.8.0) (23.5.26)\n",
            "Requirement already satisfied: gast>=0.2.1 in /usr/local/lib/python3.10/dist-packages (from tensorflow==2.8.0) (0.5.4)\n",
            "Requirement already satisfied: google-pasta>=0.1.1 in /usr/local/lib/python3.10/dist-packages (from tensorflow==2.8.0) (0.2.0)\n",
            "Requirement already satisfied: h5py>=2.9.0 in /usr/local/lib/python3.10/dist-packages (from tensorflow==2.8.0) (3.9.0)\n",
            "Requirement already satisfied: keras-preprocessing>=1.1.1 in /usr/local/lib/python3.10/dist-packages (from tensorflow==2.8.0) (1.1.2)\n",
            "Requirement already satisfied: libclang>=9.0.1 in /usr/local/lib/python3.10/dist-packages (from tensorflow==2.8.0) (16.0.6)\n",
            "Requirement already satisfied: numpy>=1.20 in /usr/local/lib/python3.10/dist-packages (from tensorflow==2.8.0) (1.23.5)\n",
            "Requirement already satisfied: opt-einsum>=2.3.2 in /usr/local/lib/python3.10/dist-packages (from tensorflow==2.8.0) (3.3.0)\n",
            "Requirement already satisfied: protobuf>=3.9.2 in /usr/local/lib/python3.10/dist-packages (from tensorflow==2.8.0) (3.20.3)\n",
            "Requirement already satisfied: setuptools in /usr/local/lib/python3.10/dist-packages (from tensorflow==2.8.0) (67.7.2)\n",
            "Requirement already satisfied: six>=1.12.0 in /usr/local/lib/python3.10/dist-packages (from tensorflow==2.8.0) (1.16.0)\n",
            "Requirement already satisfied: termcolor>=1.1.0 in /usr/local/lib/python3.10/dist-packages (from tensorflow==2.8.0) (2.3.0)\n",
            "Requirement already satisfied: typing-extensions>=3.6.6 in /usr/local/lib/python3.10/dist-packages (from tensorflow==2.8.0) (4.5.0)\n",
            "Requirement already satisfied: wrapt>=1.11.0 in /usr/local/lib/python3.10/dist-packages (from tensorflow==2.8.0) (1.14.1)\n",
            "Requirement already satisfied: tensorboard<2.9,>=2.8 in /usr/local/lib/python3.10/dist-packages (from tensorflow==2.8.0) (2.8.0)\n",
            "Requirement already satisfied: tf-estimator-nightly==2.8.0.dev2021122109 in /usr/local/lib/python3.10/dist-packages (from tensorflow==2.8.0) (2.8.0.dev2021122109)\n",
            "Requirement already satisfied: keras<2.9,>=2.8.0rc0 in /usr/local/lib/python3.10/dist-packages (from tensorflow==2.8.0) (2.8.0)\n",
            "Requirement already satisfied: tensorflow-io-gcs-filesystem>=0.23.1 in /usr/local/lib/python3.10/dist-packages (from tensorflow==2.8.0) (0.34.0)\n",
            "Requirement already satisfied: grpcio<2.0,>=1.24.3 in /usr/local/lib/python3.10/dist-packages (from tensorflow==2.8.0) (1.59.2)\n",
            "Requirement already satisfied: wheel<1.0,>=0.23.0 in /usr/local/lib/python3.10/dist-packages (from astunparse>=1.6.0->tensorflow==2.8.0) (0.41.3)\n",
            "Requirement already satisfied: google-auth<3,>=1.6.3 in /usr/local/lib/python3.10/dist-packages (from tensorboard<2.9,>=2.8->tensorflow==2.8.0) (2.17.3)\n",
            "Requirement already satisfied: google-auth-oauthlib<0.5,>=0.4.1 in /usr/local/lib/python3.10/dist-packages (from tensorboard<2.9,>=2.8->tensorflow==2.8.0) (0.4.6)\n",
            "Requirement already satisfied: markdown>=2.6.8 in /usr/local/lib/python3.10/dist-packages (from tensorboard<2.9,>=2.8->tensorflow==2.8.0) (3.5.1)\n",
            "Requirement already satisfied: requests<3,>=2.21.0 in /usr/local/lib/python3.10/dist-packages (from tensorboard<2.9,>=2.8->tensorflow==2.8.0) (2.31.0)\n",
            "Requirement already satisfied: tensorboard-data-server<0.7.0,>=0.6.0 in /usr/local/lib/python3.10/dist-packages (from tensorboard<2.9,>=2.8->tensorflow==2.8.0) (0.6.1)\n",
            "Requirement already satisfied: tensorboard-plugin-wit>=1.6.0 in /usr/local/lib/python3.10/dist-packages (from tensorboard<2.9,>=2.8->tensorflow==2.8.0) (1.8.1)\n",
            "Requirement already satisfied: werkzeug>=0.11.15 in /usr/local/lib/python3.10/dist-packages (from tensorboard<2.9,>=2.8->tensorflow==2.8.0) (3.0.1)\n",
            "Requirement already satisfied: cachetools<6.0,>=2.0.0 in /usr/local/lib/python3.10/dist-packages (from google-auth<3,>=1.6.3->tensorboard<2.9,>=2.8->tensorflow==2.8.0) (5.3.2)\n",
            "Requirement already satisfied: pyasn1-modules>=0.2.1 in /usr/local/lib/python3.10/dist-packages (from google-auth<3,>=1.6.3->tensorboard<2.9,>=2.8->tensorflow==2.8.0) (0.3.0)\n",
            "Requirement already satisfied: rsa<5,>=3.1.4 in /usr/local/lib/python3.10/dist-packages (from google-auth<3,>=1.6.3->tensorboard<2.9,>=2.8->tensorflow==2.8.0) (4.9)\n",
            "Requirement already satisfied: requests-oauthlib>=0.7.0 in /usr/local/lib/python3.10/dist-packages (from google-auth-oauthlib<0.5,>=0.4.1->tensorboard<2.9,>=2.8->tensorflow==2.8.0) (1.3.1)\n",
            "Requirement already satisfied: charset-normalizer<4,>=2 in /usr/local/lib/python3.10/dist-packages (from requests<3,>=2.21.0->tensorboard<2.9,>=2.8->tensorflow==2.8.0) (3.3.2)\n",
            "Requirement already satisfied: idna<4,>=2.5 in /usr/local/lib/python3.10/dist-packages (from requests<3,>=2.21.0->tensorboard<2.9,>=2.8->tensorflow==2.8.0) (3.4)\n",
            "Requirement already satisfied: urllib3<3,>=1.21.1 in /usr/local/lib/python3.10/dist-packages (from requests<3,>=2.21.0->tensorboard<2.9,>=2.8->tensorflow==2.8.0) (2.0.7)\n",
            "Requirement already satisfied: certifi>=2017.4.17 in /usr/local/lib/python3.10/dist-packages (from requests<3,>=2.21.0->tensorboard<2.9,>=2.8->tensorflow==2.8.0) (2023.7.22)\n",
            "Requirement already satisfied: MarkupSafe>=2.1.1 in /usr/local/lib/python3.10/dist-packages (from werkzeug>=0.11.15->tensorboard<2.9,>=2.8->tensorflow==2.8.0) (2.1.3)\n",
            "Requirement already satisfied: pyasn1<0.6.0,>=0.4.6 in /usr/local/lib/python3.10/dist-packages (from pyasn1-modules>=0.2.1->google-auth<3,>=1.6.3->tensorboard<2.9,>=2.8->tensorflow==2.8.0) (0.5.0)\n",
            "Requirement already satisfied: oauthlib>=3.0.0 in /usr/local/lib/python3.10/dist-packages (from requests-oauthlib>=0.7.0->google-auth-oauthlib<0.5,>=0.4.1->tensorboard<2.9,>=2.8->tensorflow==2.8.0) (3.2.2)\n",
            "Requirement already satisfied: np_utils in /usr/local/lib/python3.10/dist-packages (0.6.0)\n",
            "Requirement already satisfied: numpy>=1.0 in /usr/local/lib/python3.10/dist-packages (from np_utils) (1.23.5)\n",
            "Requirement already satisfied: keras in /usr/local/lib/python3.10/dist-packages (2.8.0)\n"
          ]
        }
      ],
      "source": [
        "!pip install tensorflow==2.8.0\n",
        "!pip install np_utils\n",
        "!pip install keras"
      ]
    },
    {
      "cell_type": "code",
      "execution_count": null,
      "metadata": {
        "id": "Fn1uwS8mcG1T"
      },
      "outputs": [],
      "source": [
        "import os\n",
        "from glob import glob\n",
        "from matplotlib import pyplot\n",
        "import matplotlib.pyplot as plt\n",
        "import tensorflow as tf\n",
        "import random\n",
        "import cv2\n",
        "import pandas as pd\n",
        "import numpy as np\n",
        "import matplotlib.gridspec as gridspec\n",
        "import seaborn as sns\n",
        "import itertools\n",
        "import sklearn\n",
        "import itertools\n",
        "import scipy\n",
        "import skimage\n",
        "from skimage.transform import resize\n",
        "import csv\n",
        "from tqdm import tqdm\n",
        "from sklearn import model_selection\n",
        "from sklearn.model_selection import train_test_split, learning_curve,KFold,cross_val_score,StratifiedKFold\n",
        "from sklearn.metrics import confusion_matrix\n",
        "import keras\n",
        "from keras.utils import np_utils\n",
        "from keras.utils.np_utils import to_categorical\n",
        "from tensorflow.keras.utils import load_img,img_to_array\n",
        "from keras.preprocessing.image import ImageDataGenerator\n",
        "from keras import models, layers, optimizers\n",
        "from sklearn.model_selection import train_test_split\n",
        "from sklearn.metrics import confusion_matrix, accuracy_score\n",
        "from keras.layers import Activation,Dense, Dropout, Flatten\n",
        "\n",
        "import datetime\n",
        "import numpy as np\n",
        "import os\n",
        "import tensorflow as tf\n",
        "import matplotlib.pyplot as plt\n",
        "from tqdm import tqdm\n",
        "\n",
        "from tensorflow.keras import Model\n",
        "from tensorflow.keras.models import Sequential\n",
        "from tensorflow.keras.utils import to_categorical\n",
        "from tensorflow.keras.losses import categorical_crossentropy\n",
        "from tensorflow.keras.preprocessing.image import ImageDataGenerator\n",
        "from tensorflow.keras.layers import Dense, Flatten, Conv2D, MaxPooling2D, Dropout\n",
        "\n",
        "from keras.models import Model\n",
        "\n",
        "%matplotlib inline\n",
        "\n",
        "import warnings\n",
        "warnings.filterwarnings(\"ignore\")"
      ]
    },
    {
      "cell_type": "code",
      "execution_count": null,
      "metadata": {
        "colab": {
          "base_uri": "https://localhost:8080/"
        },
        "id": "6XFq4c_U1Ek1",
        "outputId": "973f288d-c385-443a-d67e-b88d0fff27fe"
      },
      "outputs": [
        {
          "output_type": "stream",
          "name": "stdout",
          "text": [
            "Mounted at /content/drive\n"
          ]
        }
      ],
      "source": [
        "from google.colab import drive\n",
        "drive.mount('/content/drive')"
      ]
    },
    {
      "cell_type": "code",
      "execution_count": null,
      "metadata": {
        "colab": {
          "base_uri": "https://localhost:8080/"
        },
        "id": "YJgDzS6jcS3_",
        "outputId": "249437d5-f6c4-4134-97ab-7b83f31504d6"
      },
      "outputs": [
        {
          "output_type": "stream",
          "name": "stderr",
          "text": [
            "100%|██████████| 512/512 [00:09<00:00, 54.06it/s] \n",
            "100%|██████████| 513/513 [00:08<00:00, 63.80it/s] \n",
            "100%|██████████| 101/101 [00:01<00:00, 57.92it/s]\n",
            "100%|██████████| 100/100 [00:01<00:00, 56.37it/s]\n"
          ]
        }
      ],
      "source": [
        "imageSize=128\n",
        "train_dir = \"/content/drive/MyDrive/Foot_Ulcer/Train\"\n",
        "test_dir =  \"/content/drive/MyDrive/Foot_Ulcer/Test\"\n",
        "from tqdm import tqdm\n",
        "def get_data(folder):\n",
        "    \"\"\"\n",
        "    Load the data and labels from the given folder.\n",
        "    \"\"\"\n",
        "    X = []\n",
        "    y = []\n",
        "    for folderName in os.listdir(folder):\n",
        "        if not folderName.startswith('.'):\n",
        "\n",
        "            if folderName in ['MAL']:\n",
        "                label = 0\n",
        "            elif folderName in ['BEN']:\n",
        "                label = 1\n",
        "                '''\n",
        "            elif folderName in ['Opacity']:\n",
        "                label = 2\n",
        "            elif folderName in ['pneumonia']:\n",
        "                label = 3\n",
        "                '''\n",
        "            else:\n",
        "                label = 4\n",
        "\n",
        "            for image_filename in tqdm(os.listdir(folder + '/'+folderName)):\n",
        "\n",
        "\n",
        "                img_file = cv2.imread(folder + '/'+folderName + '/' + image_filename)\n",
        "                if img_file is not None:\n",
        "                    img_file = skimage.transform.resize(img_file, (imageSize, imageSize, 3))\n",
        "                    img_arr = np.asarray(img_file)\n",
        "\n",
        "                    X.append(img_arr)\n",
        "                    y.append(label)\n",
        "    X = np.asarray(X)\n",
        "    y = np.asarray(y)\n",
        "\n",
        "    return X,y\n",
        "X_train, y_train = get_data(train_dir) # Un-comment to use full dataset: Step 1 of 2\n",
        "X_test, y_test= get_data(test_dir)\n"
      ]
    },
    {
      "cell_type": "code",
      "execution_count": null,
      "metadata": {
        "id": "1hCShZHwcWRb"
      },
      "outputs": [],
      "source": [
        "# AlexNet model\n",
        "class AlexNet(Sequential):\n",
        "    def __init__(self, input_shape, num_classes):\n",
        "        super().__init__()\n",
        "\n",
        "        self.add(Conv2D(96, kernel_size=(11,11), strides= 4,\n",
        "                        padding= 'valid', activation= 'relu',\n",
        "                        input_shape= input_shape,\n",
        "                        kernel_initializer= 'he_normal'))\n",
        "        self.add(MaxPooling2D(pool_size=(3,3), strides= (2,2),\n",
        "                              padding= 'valid', data_format= None))\n",
        "\n",
        "        self.add(Conv2D(256, kernel_size=(5,5), strides= 1,\n",
        "                        padding= 'same', activation= 'relu',\n",
        "                        kernel_initializer= 'he_normal'))\n",
        "        self.add(MaxPooling2D(pool_size=(3,3), strides= (2,2),\n",
        "                              padding= 'valid', data_format= None))\n",
        "\n",
        "        self.add(Conv2D(384, kernel_size=(3,3), strides= 1,\n",
        "                        padding= 'same', activation= 'relu',\n",
        "                        kernel_initializer= 'he_normal'))\n",
        "\n",
        "        self.add(Conv2D(384, kernel_size=(3,3), strides= 1,\n",
        "                        padding= 'same', activation= 'relu',\n",
        "                        kernel_initializer= 'he_normal'))\n",
        "\n",
        "        self.add(Conv2D(256, kernel_size=(3,3), strides= 1,\n",
        "                        padding= 'same', activation= 'relu',\n",
        "                        kernel_initializer= 'he_normal'))\n",
        "\n",
        "        self.add(MaxPooling2D(pool_size=(3,3), strides= (2,2),\n",
        "                              padding= 'valid', data_format= None))\n",
        "\n",
        "        self.add(Flatten())\n",
        "        self.add(Dense(4096, activation= 'relu'))\n",
        "        self.add(Dense(4096, activation= 'relu'))\n",
        "        self.add(Dense(1000, activation= 'relu'))\n",
        "        self.add(Dense(num_classes, activation= 'softmax'))\n",
        "\n",
        "        self.compile(optimizer= tf.keras.optimizers.Adam(0.001),\n",
        "                    loss='categorical_crossentropy',\n",
        "                    metrics=['accuracy'])"
      ]
    },
    {
      "cell_type": "code",
      "execution_count": null,
      "metadata": {
        "id": "Dp1TbG4ccuqp"
      },
      "outputs": [],
      "source": [
        "num_classes = 2\n",
        "model = AlexNet((imageSize, imageSize, 3), num_classes)"
      ]
    },
    {
      "cell_type": "code",
      "execution_count": null,
      "metadata": {
        "id": "eh-bgS6LoiGm"
      },
      "outputs": [],
      "source": [
        "METRICS = [\n",
        "      keras.metrics.TruePositives(name='tp'),\n",
        "      keras.metrics.FalsePositives(name='fp'),\n",
        "      keras.metrics.TrueNegatives(name='tn'),\n",
        "      keras.metrics.FalseNegatives(name='fn'),\n",
        "      keras.metrics.BinaryAccuracy(name='accuracy'),\n",
        "      keras.metrics.Precision(name='precision'),\n",
        "      keras.metrics.Recall(name='recall'),\n",
        "      keras.metrics.AUC(name='auc'),\n",
        "]"
      ]
    },
    {
      "cell_type": "code",
      "execution_count": null,
      "metadata": {
        "colab": {
          "base_uri": "https://localhost:8080/"
        },
        "id": "zFRxiTuudBIT",
        "outputId": "beec35c6-5d73-48d8-b97f-d38f1062b1eb"
      },
      "outputs": [
        {
          "output_type": "stream",
          "name": "stdout",
          "text": [
            "Model: \"alex_net\"\n",
            "_________________________________________________________________\n",
            " Layer (type)                Output Shape              Param #   \n",
            "=================================================================\n",
            " conv2d (Conv2D)             (None, 30, 30, 96)        34944     \n",
            "                                                                 \n",
            " max_pooling2d (MaxPooling2D  (None, 14, 14, 96)       0         \n",
            " )                                                               \n",
            "                                                                 \n",
            " conv2d_1 (Conv2D)           (None, 14, 14, 256)       614656    \n",
            "                                                                 \n",
            " max_pooling2d_1 (MaxPooling  (None, 6, 6, 256)        0         \n",
            " 2D)                                                             \n",
            "                                                                 \n",
            " conv2d_2 (Conv2D)           (None, 6, 6, 384)         885120    \n",
            "                                                                 \n",
            " conv2d_3 (Conv2D)           (None, 6, 6, 384)         1327488   \n",
            "                                                                 \n",
            " conv2d_4 (Conv2D)           (None, 6, 6, 256)         884992    \n",
            "                                                                 \n",
            " max_pooling2d_2 (MaxPooling  (None, 2, 2, 256)        0         \n",
            " 2D)                                                             \n",
            "                                                                 \n",
            " flatten (Flatten)           (None, 1024)              0         \n",
            "                                                                 \n",
            " dense (Dense)               (None, 4096)              4198400   \n",
            "                                                                 \n",
            " dense_1 (Dense)             (None, 4096)              16781312  \n",
            "                                                                 \n",
            " dense_2 (Dense)             (None, 1000)              4097000   \n",
            "                                                                 \n",
            " dense_3 (Dense)             (None, 2)                 2002      \n",
            "                                                                 \n",
            "=================================================================\n",
            "Total params: 28,825,914\n",
            "Trainable params: 28,825,914\n",
            "Non-trainable params: 0\n",
            "_________________________________________________________________\n"
          ]
        }
      ],
      "source": [
        "model.compile(loss='categorical_crossentropy',\n",
        "                  optimizer='adam',\n",
        "                  metrics=METRICS)\n",
        "model.summary()"
      ]
    },
    {
      "cell_type": "code",
      "execution_count": null,
      "metadata": {
        "colab": {
          "base_uri": "https://localhost:8080/"
        },
        "id": "mvZom0WYdRIN",
        "outputId": "c80ec5d8-bcc0-463f-bcb4-271afe837cba"
      },
      "outputs": [
        {
          "output_type": "stream",
          "name": "stdout",
          "text": [
            "Found 1024 images belonging to 2 classes.\n",
            "Found 200 images belonging to 2 classes.\n"
          ]
        }
      ],
      "source": [
        "from keras.preprocessing.image import ImageDataGenerator\n",
        "\n",
        "train_datagen = ImageDataGenerator(rescale = 1./255,\n",
        "                                   shear_range = 0.2,\n",
        "                                   zoom_range = 0.2,\n",
        "                                   horizontal_flip = True)\n",
        "\n",
        "test_datagen = ImageDataGenerator(rescale = 1./255)\n",
        "\n",
        "\n",
        "training_set = train_datagen.flow_from_directory(\"/content/drive/MyDrive/Foot_Ulcer/Train\",\n",
        "                                                 target_size = (imageSize, imageSize),\n",
        "                                                 batch_size = 16,\n",
        "                                                 class_mode = 'categorical')\n",
        "\n",
        "test_set = test_datagen.flow_from_directory(\"/content/drive/MyDrive/Foot_Ulcer/Test\",\n",
        "                                            target_size = (imageSize, imageSize),\n",
        "                                            batch_size =8,\n",
        "                                            class_mode = 'categorical')"
      ]
    },
    {
      "cell_type": "code",
      "execution_count": null,
      "metadata": {
        "id": "GEMN_trNoXPT"
      },
      "outputs": [],
      "source": [
        "epochs=30"
      ]
    },
    {
      "cell_type": "code",
      "execution_count": null,
      "metadata": {
        "colab": {
          "base_uri": "https://localhost:8080/"
        },
        "id": "BOs7GNAfdXj2",
        "outputId": "d6d49c09-a865-472c-ffe9-9c022ea87720"
      },
      "outputs": [
        {
          "output_type": "stream",
          "name": "stdout",
          "text": [
            "Epoch 1/30\n",
            "64/64 [==============================] - 22s 133ms/step - loss: 1.0310 - tp: 512.0000 - fp: 512.0000 - tn: 512.0000 - fn: 512.0000 - accuracy: 0.5000 - precision: 0.5000 - recall: 0.5000 - auc: 0.5166 - val_loss: 0.6935 - val_tp: 100.0000 - val_fp: 100.0000 - val_tn: 100.0000 - val_fn: 100.0000 - val_accuracy: 0.5000 - val_precision: 0.5000 - val_recall: 0.5000 - val_auc: 0.5000\n",
            "Epoch 2/30\n",
            "64/64 [==============================] - 11s 166ms/step - loss: 0.6937 - tp: 492.0000 - fp: 532.0000 - tn: 492.0000 - fn: 532.0000 - accuracy: 0.4805 - precision: 0.4805 - recall: 0.4805 - auc: 0.4703 - val_loss: 0.6930 - val_tp: 100.0000 - val_fp: 100.0000 - val_tn: 100.0000 - val_fn: 100.0000 - val_accuracy: 0.5000 - val_precision: 0.5000 - val_recall: 0.5000 - val_auc: 0.5000\n",
            "Epoch 3/30\n",
            "64/64 [==============================] - 8s 120ms/step - loss: 0.7003 - tp: 558.0000 - fp: 466.0000 - tn: 558.0000 - fn: 466.0000 - accuracy: 0.5449 - precision: 0.5449 - recall: 0.5449 - auc: 0.5666 - val_loss: 0.7043 - val_tp: 100.0000 - val_fp: 100.0000 - val_tn: 100.0000 - val_fn: 100.0000 - val_accuracy: 0.5000 - val_precision: 0.5000 - val_recall: 0.5000 - val_auc: 0.6032\n",
            "Epoch 4/30\n",
            "64/64 [==============================] - 10s 158ms/step - loss: 0.7056 - tp: 538.0000 - fp: 486.0000 - tn: 538.0000 - fn: 486.0000 - accuracy: 0.5254 - precision: 0.5254 - recall: 0.5254 - auc: 0.5410 - val_loss: 0.6875 - val_tp: 100.0000 - val_fp: 100.0000 - val_tn: 100.0000 - val_fn: 100.0000 - val_accuracy: 0.5000 - val_precision: 0.5000 - val_recall: 0.5000 - val_auc: 0.6229\n",
            "Epoch 5/30\n",
            "64/64 [==============================] - 9s 133ms/step - loss: 0.6972 - tp: 528.0000 - fp: 496.0000 - tn: 528.0000 - fn: 496.0000 - accuracy: 0.5156 - precision: 0.5156 - recall: 0.5156 - auc: 0.5217 - val_loss: 0.6911 - val_tp: 100.0000 - val_fp: 100.0000 - val_tn: 100.0000 - val_fn: 100.0000 - val_accuracy: 0.5000 - val_precision: 0.5000 - val_recall: 0.5000 - val_auc: 0.5806\n",
            "Epoch 6/30\n",
            "64/64 [==============================] - 10s 153ms/step - loss: 0.6860 - tp: 568.0000 - fp: 456.0000 - tn: 568.0000 - fn: 456.0000 - accuracy: 0.5547 - precision: 0.5547 - recall: 0.5547 - auc: 0.5939 - val_loss: 3.6471 - val_tp: 100.0000 - val_fp: 100.0000 - val_tn: 100.0000 - val_fn: 100.0000 - val_accuracy: 0.5000 - val_precision: 0.5000 - val_recall: 0.5000 - val_auc: 0.5350\n",
            "Epoch 7/30\n",
            "64/64 [==============================] - 8s 129ms/step - loss: 0.7535 - tp: 512.0000 - fp: 512.0000 - tn: 512.0000 - fn: 512.0000 - accuracy: 0.5000 - precision: 0.5000 - recall: 0.5000 - auc: 0.5021 - val_loss: 0.6963 - val_tp: 100.0000 - val_fp: 100.0000 - val_tn: 100.0000 - val_fn: 100.0000 - val_accuracy: 0.5000 - val_precision: 0.5000 - val_recall: 0.5000 - val_auc: 0.5859\n",
            "Epoch 8/30\n",
            "64/64 [==============================] - 10s 150ms/step - loss: 0.6905 - tp: 529.0000 - fp: 495.0000 - tn: 529.0000 - fn: 495.0000 - accuracy: 0.5166 - precision: 0.5166 - recall: 0.5166 - auc: 0.5418 - val_loss: 0.6570 - val_tp: 107.0000 - val_fp: 93.0000 - val_tn: 107.0000 - val_fn: 93.0000 - val_accuracy: 0.5350 - val_precision: 0.5350 - val_recall: 0.5350 - val_auc: 0.7012\n",
            "Epoch 9/30\n",
            "64/64 [==============================] - 8s 130ms/step - loss: 0.6922 - tp: 512.0000 - fp: 512.0000 - tn: 512.0000 - fn: 512.0000 - accuracy: 0.5000 - precision: 0.5000 - recall: 0.5000 - auc: 0.4850 - val_loss: 0.6929 - val_tp: 100.0000 - val_fp: 100.0000 - val_tn: 100.0000 - val_fn: 100.0000 - val_accuracy: 0.5000 - val_precision: 0.5000 - val_recall: 0.5000 - val_auc: 0.5600\n",
            "Epoch 10/30\n",
            "64/64 [==============================] - 9s 140ms/step - loss: 0.6917 - tp: 525.0000 - fp: 499.0000 - tn: 525.0000 - fn: 499.0000 - accuracy: 0.5127 - precision: 0.5127 - recall: 0.5127 - auc: 0.5229 - val_loss: 0.6918 - val_tp: 116.0000 - val_fp: 84.0000 - val_tn: 116.0000 - val_fn: 84.0000 - val_accuracy: 0.5800 - val_precision: 0.5800 - val_recall: 0.5800 - val_auc: 0.6215\n",
            "Epoch 11/30\n",
            "64/64 [==============================] - 8s 128ms/step - loss: 0.7875 - tp: 540.0000 - fp: 484.0000 - tn: 540.0000 - fn: 484.0000 - accuracy: 0.5273 - precision: 0.5273 - recall: 0.5273 - auc: 0.5357 - val_loss: 0.7020 - val_tp: 100.0000 - val_fp: 100.0000 - val_tn: 100.0000 - val_fn: 100.0000 - val_accuracy: 0.5000 - val_precision: 0.5000 - val_recall: 0.5000 - val_auc: 0.4234\n",
            "Epoch 12/30\n",
            "64/64 [==============================] - 9s 147ms/step - loss: 0.6964 - tp: 495.0000 - fp: 529.0000 - tn: 495.0000 - fn: 529.0000 - accuracy: 0.4834 - precision: 0.4834 - recall: 0.4834 - auc: 0.4986 - val_loss: 0.7033 - val_tp: 100.0000 - val_fp: 100.0000 - val_tn: 100.0000 - val_fn: 100.0000 - val_accuracy: 0.5000 - val_precision: 0.5000 - val_recall: 0.5000 - val_auc: 0.4618\n",
            "Epoch 13/30\n",
            "64/64 [==============================] - 8s 126ms/step - loss: 0.6951 - tp: 523.0000 - fp: 501.0000 - tn: 523.0000 - fn: 501.0000 - accuracy: 0.5107 - precision: 0.5107 - recall: 0.5107 - auc: 0.5105 - val_loss: 0.6933 - val_tp: 100.0000 - val_fp: 100.0000 - val_tn: 100.0000 - val_fn: 100.0000 - val_accuracy: 0.5000 - val_precision: 0.5000 - val_recall: 0.5000 - val_auc: 0.5000\n",
            "Epoch 14/30\n",
            "64/64 [==============================] - 9s 142ms/step - loss: 0.6935 - tp: 512.0000 - fp: 512.0000 - tn: 512.0000 - fn: 512.0000 - accuracy: 0.5000 - precision: 0.5000 - recall: 0.5000 - auc: 0.5039 - val_loss: 0.6926 - val_tp: 100.0000 - val_fp: 100.0000 - val_tn: 100.0000 - val_fn: 100.0000 - val_accuracy: 0.5000 - val_precision: 0.5000 - val_recall: 0.5000 - val_auc: 0.5000\n",
            "Epoch 15/30\n",
            "64/64 [==============================] - 9s 136ms/step - loss: 0.6937 - tp: 512.0000 - fp: 512.0000 - tn: 512.0000 - fn: 512.0000 - accuracy: 0.5000 - precision: 0.5000 - recall: 0.5000 - auc: 0.4877 - val_loss: 0.6931 - val_tp: 100.0000 - val_fp: 100.0000 - val_tn: 100.0000 - val_fn: 100.0000 - val_accuracy: 0.5000 - val_precision: 0.5000 - val_recall: 0.5000 - val_auc: 0.5325\n",
            "Epoch 16/30\n",
            "64/64 [==============================] - 9s 134ms/step - loss: 0.6933 - tp: 512.0000 - fp: 512.0000 - tn: 512.0000 - fn: 512.0000 - accuracy: 0.5000 - precision: 0.5000 - recall: 0.5000 - auc: 0.4985 - val_loss: 0.6930 - val_tp: 100.0000 - val_fp: 100.0000 - val_tn: 100.0000 - val_fn: 100.0000 - val_accuracy: 0.5000 - val_precision: 0.5000 - val_recall: 0.5000 - val_auc: 0.5000\n",
            "Epoch 17/30\n",
            "64/64 [==============================] - 8s 129ms/step - loss: 0.6934 - tp: 511.0000 - fp: 513.0000 - tn: 511.0000 - fn: 513.0000 - accuracy: 0.4990 - precision: 0.4990 - recall: 0.4990 - auc: 0.4928 - val_loss: 0.6927 - val_tp: 100.0000 - val_fp: 100.0000 - val_tn: 100.0000 - val_fn: 100.0000 - val_accuracy: 0.5000 - val_precision: 0.5000 - val_recall: 0.5000 - val_auc: 0.5819\n",
            "Epoch 18/30\n",
            "64/64 [==============================] - 9s 139ms/step - loss: 0.6933 - tp: 505.0000 - fp: 519.0000 - tn: 505.0000 - fn: 519.0000 - accuracy: 0.4932 - precision: 0.4932 - recall: 0.4932 - auc: 0.4928 - val_loss: 0.6932 - val_tp: 100.0000 - val_fp: 100.0000 - val_tn: 100.0000 - val_fn: 100.0000 - val_accuracy: 0.5000 - val_precision: 0.5000 - val_recall: 0.5000 - val_auc: 0.5000\n",
            "Epoch 19/30\n",
            "64/64 [==============================] - 9s 140ms/step - loss: 0.6949 - tp: 506.0000 - fp: 518.0000 - tn: 506.0000 - fn: 518.0000 - accuracy: 0.4941 - precision: 0.4941 - recall: 0.4941 - auc: 0.4906 - val_loss: 0.6926 - val_tp: 129.0000 - val_fp: 71.0000 - val_tn: 129.0000 - val_fn: 71.0000 - val_accuracy: 0.6450 - val_precision: 0.6450 - val_recall: 0.6450 - val_auc: 0.5050\n",
            "Epoch 20/30\n",
            "64/64 [==============================] - 8s 130ms/step - loss: 0.6994 - tp: 503.0000 - fp: 521.0000 - tn: 503.0000 - fn: 521.0000 - accuracy: 0.4912 - precision: 0.4912 - recall: 0.4912 - auc: 0.4874 - val_loss: 0.6933 - val_tp: 100.0000 - val_fp: 100.0000 - val_tn: 100.0000 - val_fn: 100.0000 - val_accuracy: 0.5000 - val_precision: 0.5000 - val_recall: 0.5000 - val_auc: 0.5000\n",
            "Epoch 21/30\n",
            "64/64 [==============================] - 8s 132ms/step - loss: 0.6951 - tp: 515.0000 - fp: 509.0000 - tn: 515.0000 - fn: 509.0000 - accuracy: 0.5029 - precision: 0.5029 - recall: 0.5029 - auc: 0.5298 - val_loss: 0.6927 - val_tp: 132.0000 - val_fp: 68.0000 - val_tn: 132.0000 - val_fn: 68.0000 - val_accuracy: 0.6600 - val_precision: 0.6600 - val_recall: 0.6600 - val_auc: 0.5000\n",
            "Epoch 22/30\n",
            "64/64 [==============================] - 9s 137ms/step - loss: 0.7017 - tp: 536.0000 - fp: 488.0000 - tn: 536.0000 - fn: 488.0000 - accuracy: 0.5234 - precision: 0.5234 - recall: 0.5234 - auc: 0.5289 - val_loss: 0.6929 - val_tp: 107.0000 - val_fp: 93.0000 - val_tn: 107.0000 - val_fn: 93.0000 - val_accuracy: 0.5350 - val_precision: 0.5350 - val_recall: 0.5350 - val_auc: 0.5000\n",
            "Epoch 23/30\n",
            "64/64 [==============================] - 8s 129ms/step - loss: 0.6978 - tp: 507.0000 - fp: 517.0000 - tn: 507.0000 - fn: 517.0000 - accuracy: 0.4951 - precision: 0.4951 - recall: 0.4951 - auc: 0.4874 - val_loss: 0.6969 - val_tp: 100.0000 - val_fp: 100.0000 - val_tn: 100.0000 - val_fn: 100.0000 - val_accuracy: 0.5000 - val_precision: 0.5000 - val_recall: 0.5000 - val_auc: 0.4124\n",
            "Epoch 24/30\n",
            "64/64 [==============================] - 9s 143ms/step - loss: 0.6964 - tp: 523.0000 - fp: 501.0000 - tn: 523.0000 - fn: 501.0000 - accuracy: 0.5107 - precision: 0.5107 - recall: 0.5107 - auc: 0.5003 - val_loss: 0.6932 - val_tp: 100.0000 - val_fp: 100.0000 - val_tn: 100.0000 - val_fn: 100.0000 - val_accuracy: 0.5000 - val_precision: 0.5000 - val_recall: 0.5000 - val_auc: 0.5000\n",
            "Epoch 25/30\n",
            "64/64 [==============================] - 9s 139ms/step - loss: 0.6935 - tp: 499.0000 - fp: 525.0000 - tn: 499.0000 - fn: 525.0000 - accuracy: 0.4873 - precision: 0.4873 - recall: 0.4873 - auc: 0.4891 - val_loss: 0.6931 - val_tp: 100.0000 - val_fp: 100.0000 - val_tn: 100.0000 - val_fn: 100.0000 - val_accuracy: 0.5000 - val_precision: 0.5000 - val_recall: 0.5000 - val_auc: 0.5000\n",
            "Epoch 26/30\n",
            "64/64 [==============================] - 9s 144ms/step - loss: 0.6932 - tp: 512.0000 - fp: 512.0000 - tn: 512.0000 - fn: 512.0000 - accuracy: 0.5000 - precision: 0.5000 - recall: 0.5000 - auc: 0.4964 - val_loss: 0.6931 - val_tp: 100.0000 - val_fp: 100.0000 - val_tn: 100.0000 - val_fn: 100.0000 - val_accuracy: 0.5000 - val_precision: 0.5000 - val_recall: 0.5000 - val_auc: 0.5000\n",
            "Epoch 27/30\n",
            "64/64 [==============================] - 9s 146ms/step - loss: 0.6935 - tp: 506.0000 - fp: 518.0000 - tn: 506.0000 - fn: 518.0000 - accuracy: 0.4941 - precision: 0.4941 - recall: 0.4941 - auc: 0.4947 - val_loss: 0.6930 - val_tp: 100.0000 - val_fp: 100.0000 - val_tn: 100.0000 - val_fn: 100.0000 - val_accuracy: 0.5000 - val_precision: 0.5000 - val_recall: 0.5000 - val_auc: 0.5000\n",
            "Epoch 28/30\n",
            "64/64 [==============================] - 8s 130ms/step - loss: 0.6938 - tp: 492.0000 - fp: 532.0000 - tn: 492.0000 - fn: 532.0000 - accuracy: 0.4805 - precision: 0.4805 - recall: 0.4805 - auc: 0.4750 - val_loss: 0.6931 - val_tp: 100.0000 - val_fp: 100.0000 - val_tn: 100.0000 - val_fn: 100.0000 - val_accuracy: 0.5000 - val_precision: 0.5000 - val_recall: 0.5000 - val_auc: 0.5000\n",
            "Epoch 29/30\n",
            "64/64 [==============================] - 8s 131ms/step - loss: 0.6934 - tp: 510.0000 - fp: 514.0000 - tn: 510.0000 - fn: 514.0000 - accuracy: 0.4980 - precision: 0.4980 - recall: 0.4980 - auc: 0.4888 - val_loss: 0.6930 - val_tp: 119.0000 - val_fp: 81.0000 - val_tn: 119.0000 - val_fn: 81.0000 - val_accuracy: 0.5950 - val_precision: 0.5950 - val_recall: 0.5950 - val_auc: 0.5000\n",
            "Epoch 30/30\n",
            "64/64 [==============================] - 9s 140ms/step - loss: 0.6932 - tp: 541.0000 - fp: 483.0000 - tn: 541.0000 - fn: 483.0000 - accuracy: 0.5283 - precision: 0.5283 - recall: 0.5283 - auc: 0.5132 - val_loss: 0.6891 - val_tp: 100.0000 - val_fp: 100.0000 - val_tn: 100.0000 - val_fn: 100.0000 - val_accuracy: 0.5000 - val_precision: 0.5000 - val_recall: 0.5000 - val_auc: 0.6075\n"
          ]
        }
      ],
      "source": [
        "history = model.fit(\n",
        "  training_set,\n",
        "  validation_data=test_set,\n",
        "  epochs=epochs,\n",
        "  steps_per_epoch=len(training_set),\n",
        "  validation_steps=len(test_set)\n",
        ")"
      ]
    },
    {
      "cell_type": "code",
      "execution_count": null,
      "metadata": {
        "colab": {
          "base_uri": "https://localhost:8080/"
        },
        "id": "ffEPYx4Fdb1H",
        "outputId": "ba90474a-d919-4767-d67d-a739802ef6f1"
      },
      "outputs": [
        {
          "output_type": "stream",
          "name": "stdout",
          "text": [
            "\n",
            "Keras CNN - accuracy: 0.5 \n",
            "\n"
          ]
        }
      ],
      "source": [
        "# Evaluate model\n",
        "score = model.evaluate(test_set,verbose=0)\n",
        "print('\\nKeras CNN - accuracy:', score[5], '\\n')"
      ]
    },
    {
      "cell_type": "code",
      "execution_count": null,
      "metadata": {
        "id": "L1WWJtQb6k9a"
      },
      "outputs": [],
      "source": [
        "model.save(\"alexnet.h5\")"
      ]
    },
    {
      "cell_type": "code",
      "execution_count": null,
      "metadata": {
        "colab": {
          "base_uri": "https://localhost:8080/"
        },
        "id": "uF_NCmvmtaO3",
        "outputId": "b93c4a76-d9ab-47cf-f522-16dc248d544b"
      },
      "outputs": [
        {
          "output_type": "execute_result",
          "data": {
            "text/plain": [
              "[0.6891182065010071,\n",
              " 100.0,\n",
              " 100.0,\n",
              " 100.0,\n",
              " 100.0,\n",
              " 0.5,\n",
              " 0.5,\n",
              " 0.5,\n",
              " 0.6074999570846558]"
            ]
          },
          "metadata": {},
          "execution_count": 18
        }
      ],
      "source": [
        "score"
      ]
    },
    {
      "cell_type": "code",
      "execution_count": null,
      "metadata": {
        "colab": {
          "base_uri": "https://localhost:8080/",
          "height": 466
        },
        "id": "qxTYvf5zingF",
        "outputId": "6157717a-7bb1-4b12-9447-418f14ae0589"
      },
      "outputs": [
        {
          "output_type": "display_data",
          "data": {
            "text/plain": [
              "<Figure size 640x480 with 1 Axes>"
            ],
            "image/png": "[encoded data removed]"
          },
          "metadata": {}
        },
        {
          "output_type": "display_data",
          "data": {
            "text/plain": [
              "<Figure size 640x480 with 0 Axes>"
            ]
          },
          "metadata": {}
        }
      ],
      "source": [
        "# plot the loss\n",
        "plt.plot(history.history['loss'], label='Training loss', linewidth=3)\n",
        "plt.plot(history.history['val_loss'], label='Validation loss', linewidth=3)\n",
        "plt.xlabel('Epoch'); plt.ylabel('Loss');\n",
        "plt.legend()\n",
        "plt.show()\n",
        "plt.savefig('LossVal_loss')"
      ]
    },
    {
      "cell_type": "code",
      "execution_count": null,
      "metadata": {
        "colab": {
          "base_uri": "https://localhost:8080/",
          "height": 466
        },
        "id": "rC8g-Wg7ip2N",
        "outputId": "b3971b26-efdd-4789-d749-9a3d6807dc45"
      },
      "outputs": [
        {
          "output_type": "display_data",
          "data": {
            "text/plain": [
              "<Figure size 640x480 with 1 Axes>"
            ],
            "image/png": "[encoded data removed]"
          },
          "metadata": {}
        },
        {
          "output_type": "display_data",
          "data": {
            "text/plain": [
              "<Figure size 640x480 with 0 Axes>"
            ]
          },
          "metadata": {}
        }
      ],
      "source": [
        "# plot the accuracy\n",
        "plt.plot(history.history['accuracy'], label='Training accuracy', linewidth=3)\n",
        "plt.plot(history.history['val_accuracy'], label='Validation accuracy', linewidth=3)\n",
        "plt.xlabel('Epoch'); plt.ylabel('Accuracy');\n",
        "plt.legend()\n",
        "plt.show()\n",
        "plt.savefig('AccVal_acc')"
      ]
    },
    {
      "cell_type": "code",
      "execution_count": null,
      "metadata": {
        "id": "-Srh4R5QityU"
      },
      "outputs": [],
      "source": [
        "Y_pred=model.predict(test_set)\n",
        "y_pred=np.argmax(Y_pred,axis=1)"
      ]
    },
    {
      "cell_type": "code",
      "execution_count": null,
      "metadata": {
        "colab": {
          "base_uri": "https://localhost:8080/",
          "height": 472
        },
        "id": "zZ9W_rfgixta",
        "outputId": "3bd7c8d2-7a2e-44dd-fb4e-56ed9bf84317"
      },
      "outputs": [
        {
          "output_type": "display_data",
          "data": {
            "text/plain": [
              "<Figure size 640x480 with 2 Axes>"
            ],
            "image/png": "[encoded data removed]"
          },
          "metadata": {}
        }
      ],
      "source": [
        "cm=confusion_matrix(test_set.classes,y_pred)\n",
        "f = sns.heatmap(cm, annot=True, fmt='.2f',cmap='jet')\n",
        "f.set_xlabel('Predicted label');f.set_ylabel('True label');\n",
        "f.set_title('Confusion Matrix');"
      ]
    },
    {
      "cell_type": "code",
      "execution_count": null,
      "metadata": {
        "id": "O9sRTtsgc4Oi"
      },
      "outputs": [],
      "source": [
        "# Extracting Intermediate Layers Output"
      ]
    },
    {
      "cell_type": "code",
      "execution_count": null,
      "metadata": {
        "id": "o9URIL0mc4RJ"
      },
      "outputs": [],
      "source": [
        "from keras.models import Model"
      ]
    },
    {
      "cell_type": "code",
      "execution_count": null,
      "metadata": {
        "colab": {
          "base_uri": "https://localhost:8080/"
        },
        "id": "4y4u3bhtc4Ty",
        "outputId": "34c0bc74-e33c-418a-ba46-52da43977f42"
      },
      "outputs": [
        {
          "output_type": "stream",
          "name": "stdout",
          "text": [
            "Model: \"alex_net\"\n",
            "_________________________________________________________________\n",
            " Layer (type)                Output Shape              Param #   \n",
            "=================================================================\n",
            " conv2d (Conv2D)             (None, 30, 30, 96)        34944     \n",
            "                                                                 \n",
            " max_pooling2d (MaxPooling2D  (None, 14, 14, 96)       0         \n",
            " )                                                               \n",
            "                                                                 \n",
            " conv2d_1 (Conv2D)           (None, 14, 14, 256)       614656    \n",
            "                                                                 \n",
            " max_pooling2d_1 (MaxPooling  (None, 6, 6, 256)        0         \n",
            " 2D)                                                             \n",
            "                                                                 \n",
            " conv2d_2 (Conv2D)           (None, 6, 6, 384)         885120    \n",
            "                                                                 \n",
            " conv2d_3 (Conv2D)           (None, 6, 6, 384)         1327488   \n",
            "                                                                 \n",
            " conv2d_4 (Conv2D)           (None, 6, 6, 256)         884992    \n",
            "                                                                 \n",
            " max_pooling2d_2 (MaxPooling  (None, 2, 2, 256)        0         \n",
            " 2D)                                                             \n",
            "                                                                 \n",
            " flatten (Flatten)           (None, 1024)              0         \n",
            "                                                                 \n",
            " dense (Dense)               (None, 4096)              4198400   \n",
            "                                                                 \n",
            " dense_1 (Dense)             (None, 4096)              16781312  \n",
            "                                                                 \n",
            " dense_2 (Dense)             (None, 1000)              4097000   \n",
            "                                                                 \n",
            " dense_3 (Dense)             (None, 2)                 2002      \n",
            "                                                                 \n",
            "=================================================================\n",
            "Total params: 28,825,914\n",
            "Trainable params: 28,825,914\n",
            "Non-trainable params: 0\n",
            "_________________________________________________________________\n"
          ]
        }
      ],
      "source": [
        "model.summary()"
      ]
    },
    {
      "cell_type": "code",
      "execution_count": null,
      "metadata": {
        "colab": {
          "base_uri": "https://localhost:8080/"
        },
        "id": "VOq7mQZVc4WX",
        "outputId": "c1821796-48c0-4629-d59f-73d356f1fe26"
      },
      "outputs": [
        {
          "output_type": "stream",
          "name": "stdout",
          "text": [
            "Indexes of Convolutional Layers are  [0, 2, 4, 5, 6]\n"
          ]
        }
      ],
      "source": [
        "##### Checking and extracting the indexes of \"Convolutional Layers\"\n",
        "t=list(model.layers)\n",
        "conv_index=[]\n",
        "for i in range(len(t)):\n",
        "  layer=t[i]\n",
        "  if 'conv' in layer.name:\n",
        "    conv_index.append(i)\n",
        "\n",
        "print(\"Indexes of Convolutional Layers are \",conv_index)"
      ]
    }
  ],
  "metadata": {
    "accelerator": "GPU",
    "colab": {
      "provenance": []
    },
    "gpuClass": "standard",
    "kernelspec": {
      "display_name": "Python 3",
      "name": "python3"
    },
    "language_info": {
      "name": "python"
    }
  },
  "nbformat": 4,
  "nbformat_minor": 0
}